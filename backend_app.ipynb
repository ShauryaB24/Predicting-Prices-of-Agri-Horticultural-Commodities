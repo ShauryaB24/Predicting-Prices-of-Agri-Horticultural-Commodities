{
  "nbformat": 4,
  "nbformat_minor": 0,
  "metadata": {
    "colab": {
      "provenance": []
    },
    "kernelspec": {
      "name": "python3",
      "display_name": "Python 3"
    },
    "language_info": {
      "name": "python"
    }
  },
  "cells": [
    {
      "cell_type": "code",
      "execution_count": 1,
      "metadata": {
        "colab": {
          "base_uri": "https://localhost:8080/"
        },
        "id": "sbvN5W49fFxN",
        "outputId": "2f10b6a6-b868-44b7-862c-448abadf7bad"
      },
      "outputs": [
        {
          "output_type": "stream",
          "name": "stdout",
          "text": [
            "Requirement already satisfied: flask in /usr/local/lib/python3.11/dist-packages (3.1.0)\n",
            "Collecting flask-cors\n",
            "  Downloading flask_cors-5.0.1-py3-none-any.whl.metadata (961 bytes)\n",
            "Requirement already satisfied: pandas in /usr/local/lib/python3.11/dist-packages (2.2.2)\n",
            "Requirement already satisfied: numpy in /usr/local/lib/python3.11/dist-packages (2.0.2)\n",
            "Requirement already satisfied: scikit-learn in /usr/local/lib/python3.11/dist-packages (1.6.1)\n",
            "Requirement already satisfied: xgboost in /usr/local/lib/python3.11/dist-packages (2.1.4)\n",
            "Requirement already satisfied: lightgbm in /usr/local/lib/python3.11/dist-packages (4.5.0)\n",
            "Requirement already satisfied: joblib in /usr/local/lib/python3.11/dist-packages (1.4.2)\n",
            "Collecting pyngrok\n",
            "  Downloading pyngrok-7.2.4-py3-none-any.whl.metadata (8.7 kB)\n",
            "Requirement already satisfied: Werkzeug>=3.1 in /usr/local/lib/python3.11/dist-packages (from flask) (3.1.3)\n",
            "Requirement already satisfied: Jinja2>=3.1.2 in /usr/local/lib/python3.11/dist-packages (from flask) (3.1.6)\n",
            "Requirement already satisfied: itsdangerous>=2.2 in /usr/local/lib/python3.11/dist-packages (from flask) (2.2.0)\n",
            "Requirement already satisfied: click>=8.1.3 in /usr/local/lib/python3.11/dist-packages (from flask) (8.1.8)\n",
            "Requirement already satisfied: blinker>=1.9 in /usr/local/lib/python3.11/dist-packages (from flask) (1.9.0)\n",
            "Requirement already satisfied: python-dateutil>=2.8.2 in /usr/local/lib/python3.11/dist-packages (from pandas) (2.8.2)\n",
            "Requirement already satisfied: pytz>=2020.1 in /usr/local/lib/python3.11/dist-packages (from pandas) (2025.2)\n",
            "Requirement already satisfied: tzdata>=2022.7 in /usr/local/lib/python3.11/dist-packages (from pandas) (2025.2)\n",
            "Requirement already satisfied: scipy>=1.6.0 in /usr/local/lib/python3.11/dist-packages (from scikit-learn) (1.14.1)\n",
            "Requirement already satisfied: threadpoolctl>=3.1.0 in /usr/local/lib/python3.11/dist-packages (from scikit-learn) (3.6.0)\n",
            "Requirement already satisfied: nvidia-nccl-cu12 in /usr/local/lib/python3.11/dist-packages (from xgboost) (2.21.5)\n",
            "Requirement already satisfied: PyYAML>=5.1 in /usr/local/lib/python3.11/dist-packages (from pyngrok) (6.0.2)\n",
            "Requirement already satisfied: MarkupSafe>=2.0 in /usr/local/lib/python3.11/dist-packages (from Jinja2>=3.1.2->flask) (3.0.2)\n",
            "Requirement already satisfied: six>=1.5 in /usr/local/lib/python3.11/dist-packages (from python-dateutil>=2.8.2->pandas) (1.17.0)\n",
            "Downloading flask_cors-5.0.1-py3-none-any.whl (11 kB)\n",
            "Downloading pyngrok-7.2.4-py3-none-any.whl (23 kB)\n",
            "Installing collected packages: pyngrok, flask-cors\n",
            "Successfully installed flask-cors-5.0.1 pyngrok-7.2.4\n"
          ]
        }
      ],
      "source": [
        "!pip install flask flask-cors pandas numpy scikit-learn xgboost lightgbm joblib pyngrok\n"
      ]
    },
    {
      "cell_type": "code",
      "source": [
        "!pip install pyngrok"
      ],
      "metadata": {
        "colab": {
          "base_uri": "https://localhost:8080/"
        },
        "id": "jc_xd7z0fKjv",
        "outputId": "fab60ecd-5faf-4f96-b819-6d06b378c230"
      },
      "execution_count": 2,
      "outputs": [
        {
          "output_type": "stream",
          "name": "stdout",
          "text": [
            "Requirement already satisfied: pyngrok in /usr/local/lib/python3.11/dist-packages (7.2.4)\n",
            "Requirement already satisfied: PyYAML>=5.1 in /usr/local/lib/python3.11/dist-packages (from pyngrok) (6.0.2)\n"
          ]
        }
      ]
    },
    {
      "cell_type": "code",
      "source": [
        "!mkdir -p models data"
      ],
      "metadata": {
        "id": "_4RxUr8afQuU"
      },
      "execution_count": 3,
      "outputs": []
    },
    {
      "cell_type": "code",
      "source": [
        "import os\n",
        "import sys\n",
        "import json\n",
        "import pickle\n",
        "import joblib\n",
        "import pandas as pd\n",
        "import numpy as np\n",
        "from sklearn.preprocessing import LabelEncoder, StandardScaler\n",
        "from google.colab import drive, files"
      ],
      "metadata": {
        "id": "xMGYVj8OfR8L"
      },
      "execution_count": 4,
      "outputs": []
    },
    {
      "cell_type": "code",
      "source": [
        "drive.mount('/content/drive')"
      ],
      "metadata": {
        "colab": {
          "base_uri": "https://localhost:8080/"
        },
        "id": "rTIfDY-lfR40",
        "outputId": "555523a8-1ab5-451c-b1c8-6b680d504fba"
      },
      "execution_count": 5,
      "outputs": [
        {
          "output_type": "stream",
          "name": "stdout",
          "text": [
            "Mounted at /content/drive\n"
          ]
        }
      ]
    },
    {
      "cell_type": "code",
      "source": [
        "json_files = ['states.json', 'districts.json', 'markets.json',\n",
        "              'commodities.json', 'varieties.json', 'grades.json']"
      ],
      "metadata": {
        "id": "3XEZ3MDPfRwh"
      },
      "execution_count": 6,
      "outputs": []
    },
    {
      "cell_type": "code",
      "source": [
        "for file in json_files:\n",
        "    try:\n",
        "        drive_path = f'/content/drive/MyDrive/data_1/{file}'  # Update path as needed\n",
        "        if os.path.exists(drive_path):\n",
        "            print(f\"Copying {file} from Drive...\")\n",
        "            !cp \"{drive_path}\" \"data/{file}\"\n",
        "        else:\n",
        "            print(f\"WARNING: {file} not found in Drive. Please upload it.\")\n",
        "            # Let the user upload the file directly\n",
        "            print(f\"Please upload {file}...\")\n",
        "            uploaded = files.upload()\n",
        "            if file in uploaded:\n",
        "                !mv \"{file}\" \"data/{file}\"\n",
        "    except Exception as e:\n",
        "        print(f\"Error copying {file}: {str(e)}\")"
      ],
      "metadata": {
        "colab": {
          "base_uri": "https://localhost:8080/"
        },
        "id": "ZEs-A_M3fRmw",
        "outputId": "b16cffe2-4629-43f4-f7b6-6b0ac33c87f3"
      },
      "execution_count": 7,
      "outputs": [
        {
          "output_type": "stream",
          "name": "stdout",
          "text": [
            "Copying states.json from Drive...\n",
            "Copying districts.json from Drive...\n",
            "Copying markets.json from Drive...\n",
            "Copying commodities.json from Drive...\n",
            "Copying varieties.json from Drive...\n",
            "Copying grades.json from Drive...\n"
          ]
        }
      ]
    },
    {
      "cell_type": "code",
      "source": [
        "model_files = [\n",
        "    'min_price_xgb_model_10.joblib',\n",
        "    'max_price_xgb_model_10.joblib',\n",
        "    'stage2_avg_price_lgb_model_10.joblib',\n",
        "    'scaler.pkl'\n",
        "]"
      ],
      "metadata": {
        "id": "wRpJxkrZfRbg"
      },
      "execution_count": 8,
      "outputs": []
    },
    {
      "cell_type": "code",
      "source": [
        "for file in model_files:\n",
        "    try:\n",
        "        drive_path = f'/content/drive/MyDrive/models/{file}'  # Update path as needed\n",
        "        if os.path.exists(drive_path):\n",
        "            print(f\"Copying {file} from Drive...\")\n",
        "            !cp \"{drive_path}\" \"models/{file}\"\n",
        "        else:\n",
        "            print(f\"WARNING: {file} not found in Drive. Please upload it.\")\n",
        "            # Let the user upload the file directly\n",
        "            print(f\"Please upload {file}...\")\n",
        "            uploaded = files.upload()\n",
        "            if file in uploaded:\n",
        "                !mv \"{file}\" \"models/{file}\"\n",
        "    except Exception as e:\n",
        "        print(f\"Error copying {file}: {str(e)}\")"
      ],
      "metadata": {
        "colab": {
          "base_uri": "https://localhost:8080/"
        },
        "id": "ctZUf8b4fjo8",
        "outputId": "2edd7cbb-82ed-41c0-fd27-01c7f5095d33"
      },
      "execution_count": 9,
      "outputs": [
        {
          "output_type": "stream",
          "name": "stdout",
          "text": [
            "Copying min_price_xgb_model_10.joblib from Drive...\n",
            "Copying max_price_xgb_model_10.joblib from Drive...\n",
            "Copying stage2_avg_price_lgb_model_10.joblib from Drive...\n",
            "Copying scaler.pkl from Drive...\n"
          ]
        }
      ]
    },
    {
      "cell_type": "code",
      "source": [
        "json_files = ['states.json', 'districts.json', 'markets.json',\n",
        "              'commodities.json', 'varieties.json', 'grades.json']\n",
        "\n",
        "for file in json_files:\n",
        "    try:\n",
        "        drive_path = f'/content/drive/MyDrive/data_1/{file}'  # Update path as needed\n",
        "        if os.path.exists(drive_path):\n",
        "            print(f\"Copying {file} from Drive...\")\n",
        "            !cp \"{drive_path}\" \"data/{file}\"\n",
        "        else:\n",
        "            print(f\"WARNING: {file} not found in Drive. Please upload it.\")\n",
        "            # Let the user upload the file directly\n",
        "            print(f\"Please upload {file}...\")\n",
        "            uploaded = files.upload()\n",
        "            if file in uploaded:\n",
        "                !mv \"{file}\" \"data/{file}\"\n",
        "    except Exception as e:\n",
        "        print(f\"Error copying {file}: {str(e)}\")"
      ],
      "metadata": {
        "colab": {
          "base_uri": "https://localhost:8080/"
        },
        "id": "wKrpCu5NfldX",
        "outputId": "b7ce6315-f3e8-490d-a682-81575ed5131b"
      },
      "execution_count": 10,
      "outputs": [
        {
          "output_type": "stream",
          "name": "stdout",
          "text": [
            "Copying states.json from Drive...\n",
            "Copying districts.json from Drive...\n",
            "Copying markets.json from Drive...\n",
            "Copying commodities.json from Drive...\n",
            "Copying varieties.json from Drive...\n",
            "Copying grades.json from Drive...\n"
          ]
        }
      ]
    },
    {
      "cell_type": "code",
      "source": [
        "\n",
        "\n",
        "# 7. Copy your model files from Google Drive\n",
        "model_files = [\n",
        "    'min_price_xgb_model_10.joblib',\n",
        "    'max_price_xgb_model_10.joblib',\n",
        "    'stage2_avg_price_lgb_model_10.joblib',\n",
        "    'scaler.pkl'\n",
        "]\n",
        "\n",
        "for file in model_files:\n",
        "    try:\n",
        "        drive_path = f'/content/drive/MyDrive/models/{file}'  # Update path as needed\n",
        "        if os.path.exists(drive_path):\n",
        "            print(f\"Copying {file} from Drive...\")\n",
        "            !cp \"{drive_path}\" \"models/{file}\"\n",
        "        else:\n",
        "            print(f\"WARNING: {file} not found in Drive. Please upload it.\")\n",
        "            # Let the user upload the file directly\n",
        "            print(f\"Please upload {file}...\")\n",
        "            uploaded = files.upload()\n",
        "            if file in uploaded:\n",
        "                !mv \"{file}\" \"models/{file}\"\n",
        "    except Exception as e:\n",
        "        print(f\"Error copying {file}: {str(e)}\")\n",
        "\n",
        "# 8. Create the Flask application\n",
        "from flask import Flask, request, jsonify\n",
        "from flask_cors import CORS\n",
        "from pyngrok import ngrok\n",
        "\n",
        "app = Flask(__name__)\n",
        "CORS(app)  # Enable CORS for all routes\n",
        "\n",
        "# Global variable to store loaded models and encoders\n",
        "models = {\n",
        "    'min_price': None,\n",
        "    'max_price': None,\n",
        "    'modal_price': None,\n",
        "    'scaler': None,\n",
        "    'encoders': None\n",
        "}\n",
        "\n",
        "# Create label encoders\n",
        "def create_label_encoders():\n",
        "    encoders = {}\n",
        "\n",
        "    # Load the mappings from the JSON files\n",
        "    with open('data/states.json', 'r') as f:\n",
        "        states_list = json.load(f)\n",
        "\n",
        "    with open('data/districts.json', 'r') as f:\n",
        "        districts_map = json.load(f)\n",
        "\n",
        "    with open('data/markets.json', 'r') as f:\n",
        "        markets_map = json.load(f)\n",
        "\n",
        "    with open('data/commodities.json', 'r') as f:\n",
        "        commodities_list = json.load(f)\n",
        "\n",
        "    with open('data/varieties.json', 'r') as f:\n",
        "        varieties_map = json.load(f)\n",
        "\n",
        "    with open('data/grades.json', 'r') as f:\n",
        "        grades_map = json.load(f)\n",
        "\n",
        "    # State encoder\n",
        "    state_encoder = LabelEncoder()\n",
        "    state_encoder.fit(states_list)\n",
        "    encoders['State'] = state_encoder\n",
        "\n",
        "    # District encoder\n",
        "    all_districts = []\n",
        "    for district_list in districts_map.values():\n",
        "        all_districts.extend(district_list)\n",
        "    district_encoder = LabelEncoder()\n",
        "    district_encoder.fit(list(set(all_districts)))\n",
        "    encoders['District'] = district_encoder\n",
        "\n",
        "    # Market encoder\n",
        "    all_markets = []\n",
        "    for market_list in markets_map.values():\n",
        "        all_markets.extend(market_list)\n",
        "    market_encoder = LabelEncoder()\n",
        "    market_encoder.fit(list(set(all_markets)))\n",
        "    encoders['Market'] = market_encoder\n",
        "\n",
        "    # Commodity encoder\n",
        "    commodity_encoder = LabelEncoder()\n",
        "    commodity_encoder.fit(commodities_list)\n",
        "    encoders['Commodity'] = commodity_encoder\n",
        "\n",
        "    # Variety encoder\n",
        "    all_varieties = []\n",
        "    for variety_list in varieties_map.values():\n",
        "        all_varieties.extend(variety_list)\n",
        "    variety_encoder = LabelEncoder()\n",
        "    variety_encoder.fit(list(set(all_varieties)))\n",
        "    encoders['Variety'] = variety_encoder\n",
        "\n",
        "    # Grade encoder\n",
        "    all_grades = []\n",
        "    for grade_list in grades_map.values():\n",
        "        all_grades.extend(grade_list)\n",
        "    grade_encoder = LabelEncoder()\n",
        "    grade_encoder.fit(list(set(all_grades)))\n",
        "    encoders['Grade'] = grade_encoder\n",
        "\n",
        "    return encoders\n",
        "\n",
        "def load_models():\n",
        "    \"\"\"Load all machine learning models and preprocessors\"\"\"\n",
        "    print(\"Loading models...\")\n",
        "    try:\n",
        "        # Load encoders (or create them if needed)\n",
        "        models['encoders'] = create_label_encoders()\n",
        "\n",
        "        # Load the scaler\n",
        "        with open('models/scaler.pkl', 'rb') as f:\n",
        "            models['scaler'] = pickle.load(f)\n",
        "\n",
        "        # Load the prediction models\n",
        "        models['min_price'] = joblib.load('models/min_price_xgb_model_10.joblib')\n",
        "        models['max_price'] = joblib.load('models/max_price_xgb_model_10.joblib')\n",
        "        models['modal_price'] = joblib.load('models/stage2_avg_price_lgb_model_10.joblib')\n",
        "\n",
        "        print(\"Models loaded successfully\")\n",
        "    except Exception as e:\n",
        "        print(f\"Error loading models: {str(e)}\")\n",
        "        raise\n",
        "\n",
        "@app.route('/get_states', methods=['GET'])\n",
        "def get_states():\n",
        "    with open('data/states.json', 'r') as f:\n",
        "        states_list = json.load(f)\n",
        "    return jsonify({\"states\": states_list})\n",
        "\n",
        "@app.route('/get_districts', methods=['GET'])\n",
        "def get_districts():\n",
        "    state = request.args.get('state')\n",
        "    with open('data/districts.json', 'r') as f:\n",
        "        districts_map = json.load(f)\n",
        "    if state in districts_map:\n",
        "        return jsonify({\"districts\": districts_map[state]})\n",
        "    return jsonify({\"districts\": []})\n",
        "\n",
        "@app.route('/get_markets', methods=['GET'])\n",
        "def get_markets():\n",
        "    district = request.args.get('district')\n",
        "    with open('data/markets.json', 'r') as f:\n",
        "        markets_map = json.load(f)\n",
        "    if district in markets_map:\n",
        "        return jsonify({\"markets\": markets_map[district]})\n",
        "    return jsonify({\"markets\": []})\n",
        "\n",
        "@app.route('/get_commodities', methods=['GET'])\n",
        "def get_commodities():\n",
        "    with open('data/commodities.json', 'r') as f:\n",
        "        commodities_list = json.load(f)\n",
        "    return jsonify({\"commodities\": commodities_list})\n",
        "\n",
        "@app.route('/get_varieties', methods=['GET'])\n",
        "def get_varieties():\n",
        "    commodity = request.args.get('commodity')\n",
        "    with open('data/varieties.json', 'r') as f:\n",
        "        varieties_map = json.load(f)\n",
        "    if commodity in varieties_map:\n",
        "        return jsonify({\"varieties\": varieties_map[commodity]})\n",
        "    return jsonify({\"varieties\": []})\n",
        "\n",
        "@app.route('/get_grades', methods=['GET'])\n",
        "def get_grades():\n",
        "    variety = request.args.get('variety')\n",
        "    with open('data/grades.json', 'r') as f:\n",
        "        grades_map = json.load(f)\n",
        "    if variety in grades_map:\n",
        "        return jsonify({\"grades\": grades_map[variety]})\n",
        "    return jsonify({\"grades\": []})\n",
        "\n",
        "@app.route('/predict', methods=['POST'])\n",
        "def predict():\n",
        "    try:\n",
        "        # If models are not loaded, load them\n",
        "        if models['min_price'] is None:\n",
        "            load_models()\n",
        "\n",
        "        # Get input data from request\n",
        "        input_data = request.json\n",
        "        print(f\"Received input data: {input_data}\")\n",
        "\n",
        "        # Create a DataFrame with the input features\n",
        "        input_df = pd.DataFrame([{\n",
        "            'State': input_data['State'],\n",
        "            'District': input_data['District'],\n",
        "            'Market': input_data['Market'],\n",
        "            'Commodity': input_data['Commodity'],\n",
        "            'Variety': input_data['Variety'],\n",
        "            'Grade': input_data['Grade'],\n",
        "            'Year': input_data['Year'],\n",
        "            'Month': input_data['Month'],\n",
        "            'Day': input_data['Day']\n",
        "        }])\n",
        "\n",
        "        # Encode categorical features\n",
        "        for col in ['State', 'District', 'Market', 'Commodity', 'Variety', 'Grade']:\n",
        "            encoder = models['encoders'][col]\n",
        "\n",
        "            # Handle unseen values (important for production)\n",
        "            try:\n",
        "                input_df[col] = encoder.transform(input_df[col])\n",
        "            except ValueError:\n",
        "                # If value not in encoder, use most common value\n",
        "                print(f\"Warning: Unknown value in {col}: {input_df[col].values[0]}\")\n",
        "                input_df[col] = encoder.transform([encoder.classes_[0]])\n",
        "\n",
        "        # Scale numerical features\n",
        "        input_array = models['scaler'].transform(input_df)\n",
        "\n",
        "        # Stage 1: Predict min and max prices\n",
        "        min_price = models['min_price'].predict(input_array)[0]\n",
        "        max_price = models['max_price'].predict(input_array)[0]\n",
        "\n",
        "        # Stage 2: Add min and max price predictions to input features\n",
        "        input_df['Min_Price'] = min_price\n",
        "        input_df['Max_Price'] = max_price\n",
        "\n",
        "        # Predict modal price\n",
        "        modal_price = models['modal_price'].predict(input_df)[0]\n",
        "\n",
        "        # Return predictions\n",
        "        response = {\n",
        "            'min_price': float(min_price),\n",
        "            'max_price': float(max_price),\n",
        "            'modal_price': float(modal_price)\n",
        "        }\n",
        "\n",
        "        print(f\"Prediction response: {response}\")\n",
        "        return jsonify(response)\n",
        "\n",
        "    except Exception as e:\n",
        "        error_message = f\"Error in prediction: {str(e)}\"\n",
        "        print(error_message)\n",
        "        return jsonify({\"error\": error_message}), 500\n",
        "\n",
        "# 9. Set up ngrok and start the Flask app\n",
        "ngrok_auth_token = '2vgUmMz8IHN1tX1zFf4AjdOWLGx_qDEo3SrAFx4YWtVwYzf9'\n",
        "ngrok.set_auth_token(ngrok_auth_token)\n",
        "\n",
        "# Verify model files exist\n",
        "for file in model_files:\n",
        "    if not os.path.exists(f\"models/{file}\"):\n",
        "        print(f\"WARNING: {file} not found in models directory!\")\n",
        "\n",
        "# Verify data files exist\n",
        "for file in json_files:\n",
        "    if not os.path.exists(f\"data/{file}\"):\n",
        "        print(f\"WARNING: {file} not found in data directory!\")\n",
        "\n",
        "# Load models at startup\n",
        "try:\n",
        "    load_models()\n",
        "    print(\"Models loaded successfully at startup\")\n",
        "except Exception as e:\n",
        "    print(f\"Error loading models at startup: {str(e)}\")\n",
        "\n",
        "# Start ngrok\n",
        "public_url = ngrok.connect(5000)\n",
        "print(f\"Public URL: {public_url}\")\n",
        "\n",
        "# Print instructions for updating the Flutter app\n",
        "print(\"\\n\" + \"=\"*80)\n",
        "print(\"INSTRUCTIONS FOR UPDATING FLUTTER APP:\")\n",
        "print(\"=\"*80)\n",
        "print(f\"Update the constants.dart file in your Flutter app with:\")\n",
        "print(f\"class Constants {{\")\n",
        "print(f\"  // Base URL for API\")\n",
        "print(f\"  static const String apiBaseUrl = '{public_url.public_url}';\")\n",
        "print(f\"}}\")\n",
        "print(\"=\"*80 + \"\\n\")\n",
        "\n",
        "# Run the Flask app\n",
        "if __name__ == '__main__':\n",
        "    app.run(host='0.0.0.0', port=5000)"
      ],
      "metadata": {
        "colab": {
          "base_uri": "https://localhost:8080/"
        },
        "id": "3fCx3jrmfn23",
        "outputId": "4b2bcf18-0ad2-4356-de4b-b1509f4e6016"
      },
      "execution_count": null,
      "outputs": [
        {
          "metadata": {
            "tags": null
          },
          "name": "stdout",
          "output_type": "stream",
          "text": [
            "Copying min_price_xgb_model_10.joblib from Drive...\n",
            "Copying max_price_xgb_model_10.joblib from Drive...\n",
            "Copying stage2_avg_price_lgb_model_10.joblib from Drive...\n",
            "Copying scaler.pkl from Drive...\n",
            "Loading models...\n",
            "Models loaded successfully\n",
            "Models loaded successfully at startup\n",
            "Public URL: NgrokTunnel: \"https://0943-34-21-30-65.ngrok-free.app\" -> \"http://localhost:5000\"\n",
            "\n",
            "================================================================================\n",
            "INSTRUCTIONS FOR UPDATING FLUTTER APP:\n",
            "================================================================================\n",
            "Update the constants.dart file in your Flutter app with:\n",
            "class Constants {\n",
            "  // Base URL for API\n",
            "  static const String apiBaseUrl = 'https://0943-34-21-30-65.ngrok-free.app';\n",
            "}\n",
            "================================================================================\n",
            "\n",
            " * Serving Flask app '__main__'\n",
            " * Debug mode: off\n"
          ]
        },
        {
          "metadata": {
            "tags": null
          },
          "name": "stderr",
          "output_type": "stream",
          "text": [
            "INFO:werkzeug:\u001b[31m\u001b[1mWARNING: This is a development server. Do not use it in a production deployment. Use a production WSGI server instead.\u001b[0m\n",
            " * Running on all addresses (0.0.0.0)\n",
            " * Running on http://127.0.0.1:5000\n",
            " * Running on http://172.28.0.12:5000\n",
            "INFO:werkzeug:\u001b[33mPress CTRL+C to quit\u001b[0m\n",
            "INFO:werkzeug:127.0.0.1 - - [15/Apr/2025 17:38:07] \"\u001b[33mGET / HTTP/1.1\u001b[0m\" 404 -\n",
            "INFO:werkzeug:127.0.0.1 - - [15/Apr/2025 17:38:07] \"\u001b[33mGET /favicon.ico HTTP/1.1\u001b[0m\" 404 -\n",
            "INFO:werkzeug:127.0.0.1 - - [15/Apr/2025 17:38:22] \"\u001b[33mGET / HTTP/1.1\u001b[0m\" 404 -\n",
            "INFO:werkzeug:127.0.0.1 - - [15/Apr/2025 17:38:30] \"\u001b[33mGET / HTTP/1.1\u001b[0m\" 404 -\n",
            "INFO:werkzeug:127.0.0.1 - - [15/Apr/2025 17:41:04] \"\u001b[33mGET /health HTTP/1.1\u001b[0m\" 404 -\n",
            "INFO:werkzeug:127.0.0.1 - - [15/Apr/2025 17:41:05] \"GET /get_states HTTP/1.1\" 200 -\n",
            "INFO:werkzeug:127.0.0.1 - - [15/Apr/2025 17:41:05] \"GET /get_commodities HTTP/1.1\" 200 -\n",
            "INFO:werkzeug:127.0.0.1 - - [15/Apr/2025 17:41:11] \"GET /get_districts?state=Gujarat HTTP/1.1\" 200 -\n",
            "INFO:werkzeug:127.0.0.1 - - [15/Apr/2025 17:41:14] \"GET /get_markets?district=Devbhumi%20Dwarka HTTP/1.1\" 200 -\n",
            "INFO:werkzeug:127.0.0.1 - - [15/Apr/2025 17:41:19] \"GET /get_varieties?commodity=Apple HTTP/1.1\" 200 -\n",
            "INFO:werkzeug:127.0.0.1 - - [15/Apr/2025 17:41:22] \"GET /get_grades?variety=Kesri HTTP/1.1\" 200 -\n",
            "INFO:werkzeug:127.0.0.1 - - [15/Apr/2025 17:41:29] \"POST /predict HTTP/1.1\" 200 -\n"
          ]
        },
        {
          "metadata": {
            "tags": null
          },
          "name": "stdout",
          "output_type": "stream",
          "text": [
            "Received input data: {'State': 'Gujarat', 'District': 'Devbhumi Dwarka', 'Market': 'Jam Khambalia', 'Commodity': 'Apple', 'Variety': 'Kesri', 'Grade': 'Medium', 'Year': 2025, 'Month': 4, 'Day': 2}\n",
            "Prediction response: {'min_price': 2618.986083984375, 'max_price': 3131.228759765625, 'modal_price': 2990.162374043666}\n"
          ]
        }
      ]
    },
    {
      "cell_type": "code",
      "source": [],
      "metadata": {
        "id": "TWGLrhQKfp76"
      },
      "execution_count": null,
      "outputs": []
    }
  ]
}